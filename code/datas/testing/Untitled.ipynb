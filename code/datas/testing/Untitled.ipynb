{
 "cells": [
  {
   "cell_type": "code",
   "execution_count": 1,
   "metadata": {},
   "outputs": [],
   "source": [
    "import os\n",
    "os.environ[\"CUDA_VISIBLE_DEVICES\"] = \"0, 1\""
   ]
  },
  {
   "cell_type": "code",
   "execution_count": 7,
   "metadata": {},
   "outputs": [
    {
     "name": "stdout",
     "output_type": "stream",
     "text": [
      "usage: infer.py [-h] [--im IM_FILE] [--rpn-pkl RPN_PKL] [--rpn-cfg RPN_CFG]\n",
      "                [--output-dir OUTPUT_DIR]\n",
      "                ...\n",
      "\n",
      "Inference on an image\n",
      "\n",
      "positional arguments:\n",
      "  models_to_run         list of pkl, yaml pairs\n",
      "\n",
      "optional arguments:\n",
      "  -h, --help            show this help message and exit\n",
      "  --im IM_FILE          input image\n",
      "  --rpn-pkl RPN_PKL     rpn model file (pkl)\n",
      "  --rpn-cfg RPN_CFG     cfg model file (yaml)\n",
      "  --output-dir OUTPUT_DIR\n",
      "                        directory for visualization pdfs (default: /tmp/infer)\n"
     ]
    },
    {
     "ename": "SystemExit",
     "evalue": "1",
     "output_type": "error",
     "traceback": [
      "An exception has occurred, use %tb to see the full traceback.\n",
      "\u001b[0;31mSystemExit\u001b[0m\u001b[0;31m:\u001b[0m 1\n"
     ]
    }
   ],
   "source": [
    "run /detectron/tools/infer.py "
   ]
  },
  {
   "cell_type": "code",
   "execution_count": 9,
   "metadata": {},
   "outputs": [
    {
     "ename": "SyntaxError",
     "evalue": "invalid syntax (<ipython-input-9-968a79bf3762>, line 1)",
     "output_type": "error",
     "traceback": [
      "\u001b[0;36m  File \u001b[0;32m\"<ipython-input-9-968a79bf3762>\"\u001b[0;36m, line \u001b[0;32m1\u001b[0m\n\u001b[0;31m    run /detectron/tools/infer.py     models_to_run /detectron/configs/12_2017_baselines/mask_rcnn_X-101-64x4d-FPN_2x.yaml\u001b[0m\n\u001b[0m                                                  ^\u001b[0m\n\u001b[0;31mSyntaxError\u001b[0m\u001b[0;31m:\u001b[0m invalid syntax\n"
     ]
    }
   ],
   "source": [
    "run /detectron/tools/infer.py \\\n",
    "    models_to_run /detectron/configs/12_2017_baselines/mask_rcnn_X-101-64x4d-FPN_2x.yaml\n",
    "    --im "
   ]
  },
  {
   "cell_type": "code",
   "execution_count": null,
   "metadata": {},
   "outputs": [],
   "source": []
  }
 ],
 "metadata": {
  "kernelspec": {
   "display_name": "Python 2",
   "language": "python",
   "name": "python2"
  },
  "language_info": {
   "codemirror_mode": {
    "name": "ipython",
    "version": 2
   },
   "file_extension": ".py",
   "mimetype": "text/x-python",
   "name": "python",
   "nbconvert_exporter": "python",
   "pygments_lexer": "ipython2",
   "version": "2.7.12"
  }
 },
 "nbformat": 4,
 "nbformat_minor": 2
}
