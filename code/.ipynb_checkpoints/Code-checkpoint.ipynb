{
 "cells": [
  {
   "cell_type": "code",
   "execution_count": 4,
   "metadata": {},
   "outputs": [],
   "source": [
    "import os\n",
    "os.environ[\"CUDA_VISIBLE_DEVICES\"] = \"1\""
   ]
  },
  {
   "cell_type": "code",
   "execution_count": null,
   "metadata": {},
   "outputs": [],
   "source": [
    "import requests\n",
    "files = {'file': open('/root/HsinWei/code/datas/testing/253472.jpg','rb')}\n",
    "r = requests.post('http://0.0.0.0:8889/update', files = files)"
   ]
  },
  {
   "cell_type": "code",
   "execution_count": 5,
   "metadata": {},
   "outputs": [],
   "source": [
    "import requests"
   ]
  },
  {
   "cell_type": "code",
   "execution_count": 49,
   "metadata": {},
   "outputs": [
    {
     "data": {
      "text/plain": [
       "u'<!DOCTYPE HTML PUBLIC \"-//W3C//DTD HTML 4.01 Transitional//EN\"\\n  \"http://www.w3.org/TR/html4/loose.dtd\">\\n<html>\\n  <head>\\n    <title>IOError: [Errno 2] No such file or directory: \\'/root/HsinWei/code/datas/research/mask_imgs/2018312/output.json\\' // Werkzeug Debugger</title>\\n    <link rel=\"stylesheet\" href=\"?__debugger__=yes&amp;cmd=resource&amp;f=style.css\"\\n        type=\"text/css\">\\n    <!-- We need to make sure this has a favicon so that the debugger does\\n         not by accident trigger a request to /favicon.ico which might\\n         change the application state. -->\\n    <link rel=\"shortcut icon\"\\n        href=\"?__debugger__=yes&amp;cmd=resource&amp;f=console.png\">\\n    <script src=\"?__debugger__=yes&amp;cmd=resource&amp;f=jquery.js\"></script>\\n    <script src=\"?__debugger__=yes&amp;cmd=resource&amp;f=debugger.js\"></script>\\n    <script type=\"text/javascript\">\\n      var TRACEBACK = 140282389398288,\\n          CONSOLE_MODE = false,\\n          EVALEX = true,\\n          EVALEX_TRUSTED = false,\\n          SECRET = \"4tJXNrtkByTsIgOLHA3q\";\\n    </script>\\n  </head>\\n  <body style=\"background-color: #fff\">\\n    <div class=\"debugger\">\\n<h1>IOError</h1>\\n<div class=\"detail\">\\n  <p class=\"errormsg\">IOError: [Errno 2] No such file or directory: \\'/root/HsinWei/code/datas/research/mask_imgs/2018312/output.json\\'</p>\\n</div>\\n<h2 class=\"traceback\">Traceback <em>(most recent call last)</em></h2>\\n<div class=\"traceback\">\\n  \\n  <ul><li><div class=\"frame\" id=\"frame-140282389398416\">\\n  <h4>File <cite class=\"filename\">\"/root/HsinWei/code/todo-api/flask/lib/python2.7/site-packages/flask/app.py\"</cite>,\\n      line <em class=\"line\">1997</em>,\\n      in <code class=\"function\">__call__</code></h4>\\n  <div class=\"source\"><pre class=\"line before\"><span class=\"ws\">                </span>error = None</pre>\\n<pre class=\"line before\"><span class=\"ws\">            </span>ctx.auto_pop(error)</pre>\\n<pre class=\"line before\"><span class=\"ws\"></span> </pre>\\n<pre class=\"line before\"><span class=\"ws\">    </span>def __call__(self, environ, start_response):</pre>\\n<pre class=\"line before\"><span class=\"ws\">        </span>&quot;&quot;&quot;Shortcut for :attr:`wsgi_app`.&quot;&quot;&quot;</pre>\\n<pre class=\"line current\"><span class=\"ws\">        </span>return self.wsgi_app(environ, start_response)</pre>\\n<pre class=\"line after\"><span class=\"ws\"></span> </pre>\\n<pre class=\"line after\"><span class=\"ws\">    </span>def __repr__(self):</pre>\\n<pre class=\"line after\"><span class=\"ws\">        </span>return \\'&lt;%s %r&gt;\\' % (</pre>\\n<pre class=\"line after\"><span class=\"ws\">            </span>self.__class__.__name__,</pre>\\n<pre class=\"line after\"><span class=\"ws\">            </span>self.name,</pre></div>\\n</div>\\n\\n<li><div class=\"frame\" id=\"frame-140282389398544\">\\n  <h4>File <cite class=\"filename\">\"/root/HsinWei/code/todo-api/flask/lib/python2.7/site-packages/flask/app.py\"</cite>,\\n      line <em class=\"line\">1985</em>,\\n      in <code class=\"function\">wsgi_app</code></h4>\\n  <div class=\"source\"><pre class=\"line before\"><span class=\"ws\">        </span>try:</pre>\\n<pre class=\"line before\"><span class=\"ws\">            </span>try:</pre>\\n<pre class=\"line before\"><span class=\"ws\">                </span>response = self.full_dispatch_request()</pre>\\n<pre class=\"line before\"><span class=\"ws\">            </span>except Exception as e:</pre>\\n<pre class=\"line before\"><span class=\"ws\">                </span>error = e</pre>\\n<pre class=\"line current\"><span class=\"ws\">                </span>response = self.handle_exception(e)</pre>\\n<pre class=\"line after\"><span class=\"ws\">            </span>except:</pre>\\n<pre class=\"line after\"><span class=\"ws\">                </span>error = sys.exc_info()[1]</pre>\\n<pre class=\"line after\"><span class=\"ws\">                </span>raise</pre>\\n<pre class=\"line after\"><span class=\"ws\">            </span>return response(environ, start_response)</pre>\\n<pre class=\"line after\"><span class=\"ws\">        </span>finally:</pre></div>\\n</div>\\n\\n<li><div class=\"frame\" id=\"frame-140282389398672\">\\n  <h4>File <cite class=\"filename\">\"/root/HsinWei/code/todo-api/flask/lib/python2.7/site-packages/flask/app.py\"</cite>,\\n      line <em class=\"line\">1540</em>,\\n      in <code class=\"function\">handle_exception</code></h4>\\n  <div class=\"source\"><pre class=\"line before\"><span class=\"ws\">            </span># if we want to repropagate the exception, we can attempt to</pre>\\n<pre class=\"line before\"><span class=\"ws\">            </span># raise it with the whole traceback in case we can do that</pre>\\n<pre class=\"line before\"><span class=\"ws\">            </span># (the function was actually called from the except part)</pre>\\n<pre class=\"line before\"><span class=\"ws\">            </span># otherwise, we just raise the error again</pre>\\n<pre class=\"line before\"><span class=\"ws\">            </span>if exc_value is e:</pre>\\n<pre class=\"line current\"><span class=\"ws\">                </span>reraise(exc_type, exc_value, tb)</pre>\\n<pre class=\"line after\"><span class=\"ws\">            </span>else:</pre>\\n<pre class=\"line after\"><span class=\"ws\">                </span>raise e</pre>\\n<pre class=\"line after\"><span class=\"ws\"></span> </pre>\\n<pre class=\"line after\"><span class=\"ws\">        </span>self.log_exception((exc_type, exc_value, tb))</pre>\\n<pre class=\"line after\"><span class=\"ws\">        </span>if handler is None:</pre></div>\\n</div>\\n\\n<li><div class=\"frame\" id=\"frame-140282389398736\">\\n  <h4>File <cite class=\"filename\">\"/root/HsinWei/code/todo-api/flask/lib/python2.7/site-packages/flask/app.py\"</cite>,\\n      line <em class=\"line\">1982</em>,\\n      in <code class=\"function\">wsgi_app</code></h4>\\n  <div class=\"source\"><pre class=\"line before\"><span class=\"ws\">        </span>ctx = self.request_context(environ)</pre>\\n<pre class=\"line before\"><span class=\"ws\">        </span>ctx.push()</pre>\\n<pre class=\"line before\"><span class=\"ws\">        </span>error = None</pre>\\n<pre class=\"line before\"><span class=\"ws\">        </span>try:</pre>\\n<pre class=\"line before\"><span class=\"ws\">            </span>try:</pre>\\n<pre class=\"line current\"><span class=\"ws\">                </span>response = self.full_dispatch_request()</pre>\\n<pre class=\"line after\"><span class=\"ws\">            </span>except Exception as e:</pre>\\n<pre class=\"line after\"><span class=\"ws\">                </span>error = e</pre>\\n<pre class=\"line after\"><span class=\"ws\">                </span>response = self.handle_exception(e)</pre>\\n<pre class=\"line after\"><span class=\"ws\">            </span>except:</pre>\\n<pre class=\"line after\"><span class=\"ws\">                </span>error = sys.exc_info()[1]</pre></div>\\n</div>\\n\\n<li><div class=\"frame\" id=\"frame-140282389398800\">\\n  <h4>File <cite class=\"filename\">\"/root/HsinWei/code/todo-api/flask/lib/python2.7/site-packages/flask/app.py\"</cite>,\\n      line <em class=\"line\">1614</em>,\\n      in <code class=\"function\">full_dispatch_request</code></h4>\\n  <div class=\"source\"><pre class=\"line before\"><span class=\"ws\">            </span>request_started.send(self)</pre>\\n<pre class=\"line before\"><span class=\"ws\">            </span>rv = self.preprocess_request()</pre>\\n<pre class=\"line before\"><span class=\"ws\">            </span>if rv is None:</pre>\\n<pre class=\"line before\"><span class=\"ws\">                </span>rv = self.dispatch_request()</pre>\\n<pre class=\"line before\"><span class=\"ws\">        </span>except Exception as e:</pre>\\n<pre class=\"line current\"><span class=\"ws\">            </span>rv = self.handle_user_exception(e)</pre>\\n<pre class=\"line after\"><span class=\"ws\">        </span>return self.finalize_request(rv)</pre>\\n<pre class=\"line after\"><span class=\"ws\"></span> </pre>\\n<pre class=\"line after\"><span class=\"ws\">    </span>def finalize_request(self, rv, from_error_handler=False):</pre>\\n<pre class=\"line after\"><span class=\"ws\">        </span>&quot;&quot;&quot;Given the return value from a view function this finalizes</pre>\\n<pre class=\"line after\"><span class=\"ws\">        </span>the request by converting it into a response and invoking the</pre></div>\\n</div>\\n\\n<li><div class=\"frame\" id=\"frame-140282389398864\">\\n  <h4>File <cite class=\"filename\">\"/root/HsinWei/code/todo-api/flask/lib/python2.7/site-packages/flask/app.py\"</cite>,\\n      line <em class=\"line\">1517</em>,\\n      in <code class=\"function\">handle_user_exception</code></h4>\\n  <div class=\"source\"><pre class=\"line before\"><span class=\"ws\">            </span>return self.handle_http_exception(e)</pre>\\n<pre class=\"line before\"><span class=\"ws\"></span> </pre>\\n<pre class=\"line before\"><span class=\"ws\">        </span>handler = self._find_error_handler(e)</pre>\\n<pre class=\"line before\"><span class=\"ws\"></span> </pre>\\n<pre class=\"line before\"><span class=\"ws\">        </span>if handler is None:</pre>\\n<pre class=\"line current\"><span class=\"ws\">            </span>reraise(exc_type, exc_value, tb)</pre>\\n<pre class=\"line after\"><span class=\"ws\">        </span>return handler(e)</pre>\\n<pre class=\"line after\"><span class=\"ws\"></span> </pre>\\n<pre class=\"line after\"><span class=\"ws\">    </span>def handle_exception(self, e):</pre>\\n<pre class=\"line after\"><span class=\"ws\">        </span>&quot;&quot;&quot;Default exception handling that kicks in when an exception</pre>\\n<pre class=\"line after\"><span class=\"ws\">        </span>occurs that is not caught.  In debug mode the exception will</pre></div>\\n</div>\\n\\n<li><div class=\"frame\" id=\"frame-140282389398928\">\\n  <h4>File <cite class=\"filename\">\"/root/HsinWei/code/todo-api/flask/lib/python2.7/site-packages/flask/app.py\"</cite>,\\n      line <em class=\"line\">1612</em>,\\n      in <code class=\"function\">full_dispatch_request</code></h4>\\n  <div class=\"source\"><pre class=\"line before\"><span class=\"ws\">        </span>self.try_trigger_before_first_request_functions()</pre>\\n<pre class=\"line before\"><span class=\"ws\">        </span>try:</pre>\\n<pre class=\"line before\"><span class=\"ws\">            </span>request_started.send(self)</pre>\\n<pre class=\"line before\"><span class=\"ws\">            </span>rv = self.preprocess_request()</pre>\\n<pre class=\"line before\"><span class=\"ws\">            </span>if rv is None:</pre>\\n<pre class=\"line current\"><span class=\"ws\">                </span>rv = self.dispatch_request()</pre>\\n<pre class=\"line after\"><span class=\"ws\">        </span>except Exception as e:</pre>\\n<pre class=\"line after\"><span class=\"ws\">            </span>rv = self.handle_user_exception(e)</pre>\\n<pre class=\"line after\"><span class=\"ws\">        </span>return self.finalize_request(rv)</pre>\\n<pre class=\"line after\"><span class=\"ws\"></span> </pre>\\n<pre class=\"line after\"><span class=\"ws\">    </span>def finalize_request(self, rv, from_error_handler=False):</pre></div>\\n</div>\\n\\n<li><div class=\"frame\" id=\"frame-140282389398992\">\\n  <h4>File <cite class=\"filename\">\"/root/HsinWei/code/todo-api/flask/lib/python2.7/site-packages/flask/app.py\"</cite>,\\n      line <em class=\"line\">1598</em>,\\n      in <code class=\"function\">dispatch_request</code></h4>\\n  <div class=\"source\"><pre class=\"line before\"><span class=\"ws\">        </span># request came with the OPTIONS method, reply automatically</pre>\\n<pre class=\"line before\"><span class=\"ws\">        </span>if getattr(rule, \\'provide_automatic_options\\', False) \\\\</pre>\\n<pre class=\"line before\"><span class=\"ws\">           </span>and req.method == \\'OPTIONS\\':</pre>\\n<pre class=\"line before\"><span class=\"ws\">            </span>return self.make_default_options_response()</pre>\\n<pre class=\"line before\"><span class=\"ws\">        </span># otherwise dispatch to the handler for that endpoint</pre>\\n<pre class=\"line current\"><span class=\"ws\">        </span>return self.view_functions[rule.endpoint](**req.view_args)</pre>\\n<pre class=\"line after\"><span class=\"ws\"></span> </pre>\\n<pre class=\"line after\"><span class=\"ws\">    </span>def full_dispatch_request(self):</pre>\\n<pre class=\"line after\"><span class=\"ws\">        </span>&quot;&quot;&quot;Dispatches the request and on top of that performs request</pre>\\n<pre class=\"line after\"><span class=\"ws\">        </span>pre and postprocessing as well as HTTP exception catching and</pre>\\n<pre class=\"line after\"><span class=\"ws\">        </span>error handling.</pre></div>\\n</div>\\n\\n<li><div class=\"frame\" id=\"frame-140282389399056\">\\n  <h4>File <cite class=\"filename\">\"/root/HsinWei/code/app.py\"</cite>,\\n      line <em class=\"line\">66</em>,\\n      in <code class=\"function\">result_coordinate</code></h4>\\n  <div class=\"source\"><pre class=\"line before\"><span class=\"ws\">    </span>--output-dir \\' + app.config[\\'RESULT_FOLDER\\'] + \\'\\\\</pre>\\n<pre class=\"line before\"><span class=\"ws\">    </span>--image-ext jpg \\\\</pre>\\n<pre class=\"line before\"><span class=\"ws\">    </span>--wts https://s3-us-west-2.amazonaws.com/detectron/35861858/12_2017_baselines/e2e_mask_rcnn_R-101-FPN_2x.yaml.02_32_51.SgT4y1cO/output/train/coco_2014_train:coco_2014_valminusminival/generalized_rcnn/model_final.pkl \\\\</pre>\\n<pre class=\"line before\"><span class=\"ws\">    </span>\\' + app.config[\\'UPLOAD_FOLDER\\'])</pre>\\n<pre class=\"line before\"><span class=\"ws\"></span> </pre>\\n<pre class=\"line current\"><span class=\"ws\">    </span>with open (app.config[\\'RESULT_FOLDER\\'] + \\'/output.json\\', &quot;r&quot;) as myfile:</pre>\\n<pre class=\"line after\"><span class=\"ws\">        </span>data=myfile.read()</pre>\\n<pre class=\"line after\"><span class=\"ws\"></span> </pre>\\n<pre class=\"line after\"><span class=\"ws\">    </span>return data</pre>\\n<pre class=\"line after\"><span class=\"ws\"></span> </pre>\\n<pre class=\"line after\"><span class=\"ws\"></span> </pre></div>\\n</div>\\n</ul>\\n  <blockquote>IOError: [Errno 2] No such file or directory: \\'/root/HsinWei/code/datas/research/mask_imgs/2018312/output.json\\'</blockquote>\\n</div>\\n\\n<div class=\"plain\">\\n  <form action=\"/?__debugger__=yes&amp;cmd=paste\" method=\"post\">\\n    <p>\\n      <input type=\"hidden\" name=\"language\" value=\"pytb\">\\n      This is the Copy/Paste friendly version of the traceback.  <span\\n      class=\"pastemessage\">You can also paste this traceback into\\n      a <a href=\"https://gist.github.com/\">gist</a>:\\n      <input type=\"submit\" value=\"create paste\"></span>\\n    </p>\\n    <textarea cols=\"50\" rows=\"10\" name=\"code\" readonly>Traceback (most recent call last):\\n  File &quot;/root/HsinWei/code/todo-api/flask/lib/python2.7/site-packages/flask/app.py&quot;, line 1997, in __call__\\n    return self.wsgi_app(environ, start_response)\\n  File &quot;/root/HsinWei/code/todo-api/flask/lib/python2.7/site-packages/flask/app.py&quot;, line 1985, in wsgi_app\\n    response = self.handle_exception(e)\\n  File &quot;/root/HsinWei/code/todo-api/flask/lib/python2.7/site-packages/flask/app.py&quot;, line 1540, in handle_exception\\n    reraise(exc_type, exc_value, tb)\\n  File &quot;/root/HsinWei/code/todo-api/flask/lib/python2.7/site-packages/flask/app.py&quot;, line 1982, in wsgi_app\\n    response = self.full_dispatch_request()\\n  File &quot;/root/HsinWei/code/todo-api/flask/lib/python2.7/site-packages/flask/app.py&quot;, line 1614, in full_dispatch_request\\n    rv = self.handle_user_exception(e)\\n  File &quot;/root/HsinWei/code/todo-api/flask/lib/python2.7/site-packages/flask/app.py&quot;, line 1517, in handle_user_exception\\n    reraise(exc_type, exc_value, tb)\\n  File &quot;/root/HsinWei/code/todo-api/flask/lib/python2.7/site-packages/flask/app.py&quot;, line 1612, in full_dispatch_request\\n    rv = self.dispatch_request()\\n  File &quot;/root/HsinWei/code/todo-api/flask/lib/python2.7/site-packages/flask/app.py&quot;, line 1598, in dispatch_request\\n    return self.view_functions[rule.endpoint](**req.view_args)\\n  File &quot;/root/HsinWei/code/app.py&quot;, line 66, in result_coordinate\\n    with open (app.config[\\'RESULT_FOLDER\\'] + \\'/output.json\\', &quot;r&quot;) as myfile:\\nIOError: [Errno 2] No such file or directory: \\'/root/HsinWei/code/datas/research/mask_imgs/2018312/output.json\\'</textarea>\\n  </form>\\n</div>\\n<div class=\"explanation\">\\n  The debugger caught an exception in your WSGI application.  You can now\\n  look at the traceback which led to the error.  <span class=\"nojavascript\">\\n  If you enable JavaScript you can also use additional features such as code\\n  execution (if the evalex feature is enabled), automatic pasting of the\\n  exceptions and much more.</span>\\n</div>\\n      <div class=\"footer\">\\n        Brought to you by <strong class=\"arthur\">DON\\'T PANIC</strong>, your\\n        friendly Werkzeug powered traceback interpreter.\\n      </div>\\n    </div>\\n\\n    <div class=\"pin-prompt\">\\n      <div class=\"inner\">\\n        <h3>Console Locked</h3>\\n        <p>\\n          The console is locked and needs to be unlocked by entering the PIN.\\n          You can find the PIN printed out on the standard output of your\\n          shell that runs the server.\\n        <form>\\n          <p>PIN:\\n            <input type=text name=pin size=14>\\n            <input type=submit name=btn value=\"Confirm Pin\">\\n        </form>\\n      </div>\\n    </div>\\n  </body>\\n</html>\\n\\n<!--\\n\\nTraceback (most recent call last):\\n  File \"/root/HsinWei/code/todo-api/flask/lib/python2.7/site-packages/flask/app.py\", line 1997, in __call__\\n    return self.wsgi_app(environ, start_response)\\n  File \"/root/HsinWei/code/todo-api/flask/lib/python2.7/site-packages/flask/app.py\", line 1985, in wsgi_app\\n    response = self.handle_exception(e)\\n  File \"/root/HsinWei/code/todo-api/flask/lib/python2.7/site-packages/flask/app.py\", line 1540, in handle_exception\\n    reraise(exc_type, exc_value, tb)\\n  File \"/root/HsinWei/code/todo-api/flask/lib/python2.7/site-packages/flask/app.py\", line 1982, in wsgi_app\\n    response = self.full_dispatch_request()\\n  File \"/root/HsinWei/code/todo-api/flask/lib/python2.7/site-packages/flask/app.py\", line 1614, in full_dispatch_request\\n    rv = self.handle_user_exception(e)\\n  File \"/root/HsinWei/code/todo-api/flask/lib/python2.7/site-packages/flask/app.py\", line 1517, in handle_user_exception\\n    reraise(exc_type, exc_value, tb)\\n  File \"/root/HsinWei/code/todo-api/flask/lib/python2.7/site-packages/flask/app.py\", line 1612, in full_dispatch_request\\n    rv = self.dispatch_request()\\n  File \"/root/HsinWei/code/todo-api/flask/lib/python2.7/site-packages/flask/app.py\", line 1598, in dispatch_request\\n    return self.view_functions[rule.endpoint](**req.view_args)\\n  File \"/root/HsinWei/code/app.py\", line 66, in result_coordinate\\n    with open (app.config[\\'RESULT_FOLDER\\'] + \\'/output.json\\', \"r\") as myfile:\\nIOError: [Errno 2] No such file or directory: \\'/root/HsinWei/code/datas/research/mask_imgs/2018312/output.json\\'\\n\\n-->\\n'"
      ]
     },
     "execution_count": 49,
     "metadata": {},
     "output_type": "execute_result"
    }
   ],
   "source": [
    "a = requests.get('http://0.0.0.0:8889/result/coordinate')\n",
    "a.text"
   ]
  },
  {
   "cell_type": "code",
   "execution_count": 53,
   "metadata": {},
   "outputs": [
    {
     "data": {
      "text/plain": [
       "u''"
      ]
     },
     "execution_count": 53,
     "metadata": {},
     "output_type": "execute_result"
    }
   ],
   "source": [
    "a = requests.get('http://0.0.0.0:8889/result/track')\n",
    "a.text"
   ]
  },
  {
   "cell_type": "code",
   "execution_count": null,
   "metadata": {},
   "outputs": [],
   "source": [
    "forjson_all = {}"
   ]
  },
  {
   "cell_type": "code",
   "execution_count": null,
   "metadata": {},
   "outputs": [],
   "source": [
    "type(forjson_all)"
   ]
  },
  {
   "cell_type": "code",
   "execution_count": null,
   "metadata": {},
   "outputs": [],
   "source": [
    "a = {'cc' : [123, 456]}\n",
    "a['dd'] = [444,555]\n",
    "a"
   ]
  },
  {
   "cell_type": "code",
   "execution_count": null,
   "metadata": {},
   "outputs": [],
   "source": [
    "run /root/HsinWei/code/infer_for_web.py \\\n",
    "    --cfg /detectron/configs/12_2017_baselines/e2e_mask_rcnn_R-101-FPN_2x.yaml \\\n",
    "    --output-dir /root/HsinWei/code/datas/research/mask_imgs/201838 \\\n",
    "    --image-ext jpg \\\n",
    "    --wts https://s3-us-west-2.amazonaws.com/detectron/35861858/12_2017_baselines/e2e_mask_rcnn_R-101-FPN_2x.yaml.02_32_51.SgT4y1cO/output/train/coco_2014_train:coco_2014_valminusminival/generalized_rcnn/model_final.pkl \\\n",
    "    /root/HsinWei/code/datas/research/imgs/201838"
   ]
  },
  {
   "cell_type": "code",
   "execution_count": null,
   "metadata": {},
   "outputs": [],
   "source": [
    "np.unique"
   ]
  },
  {
   "cell_type": "code",
   "execution_count": null,
   "metadata": {},
   "outputs": [],
   "source": [
    "run /detectron/tools/infer.py"
   ]
  },
  {
   "cell_type": "markdown",
   "metadata": {},
   "source": [
    "# Debug"
   ]
  },
  {
   "cell_type": "code",
   "execution_count": null,
   "metadata": {},
   "outputs": [],
   "source": [
    "run /detectron/tools/test_net.py \\\n",
    "    --cfg /code/configs/12_2017_baselines/e2e_mask_rcnn_R-101-FPN_2x.yaml \\\n",
    "    --multi-gpu-testing \\\n",
    "    TEST.WEIGHTS https://s3-us-west-2.amazonaws.com/detectron/35861858/12_2017_baselines/e2e_mask_rcnn_R-101-FPN_2x.yaml.02_32_51.SgT4y1cO/output/train/coco_2014_train:coco_2014_valminusminival/generalized_rcnn/model_final.pkl \\\n",
    "    NUM_GPUS 2"
   ]
  },
  {
   "cell_type": "code",
   "execution_count": null,
   "metadata": {},
   "outputs": [],
   "source": [
    "run /detectron/tools/infer_simple.py \\\n",
    "    --cfg /detectron/configs/12_2017_baselines/mask_rcnn_X-101-64x4d-FPN_2x.yaml \\\n",
    "    --output-dir /code/datas/output \\\n",
    "    --image-ext jpg \\\n",
    "    --wts https://s3-us-west-2.amazonaws.com/detectron/36672114/12_2017_baselines/mask_rcnn_X-101-64x4d-FPN_2x.yaml.08_58_13.aNWCi3U7/output/train/coco_2014_train%3Acoco_2014_valminusminival/generalized_rcnn/model_final.pkl \\\n",
    "    /code/datas/testing"
   ]
  },
  {
   "cell_type": "code",
   "execution_count": null,
   "metadata": {},
   "outputs": [],
   "source": [
    "run /detectron/tools/infer_simple.py \\\n",
    "    --cfg /detectron/configs/12_2017_baselines/e2e_mask_rcnn_R-101-FPN_2x.yaml \\\n",
    "    --output-dir /code/datas/output \\\n",
    "    --image-ext jpg \\\n",
    "    --wts https://s3-us-west-2.amazonaws.com/detectron/35861858/12_2017_baselines/e2e_mask_rcnn_R-101-FPN_2x.yaml.02_32_51.SgT4y1cO/output/train/coco_2014_train:coco_2014_valminusminival/generalized_rcnn/model_final.pkl \\\n",
    "    /code/datas/testing"
   ]
  },
  {
   "cell_type": "code",
   "execution_count": null,
   "metadata": {},
   "outputs": [],
   "source": [
    "from wand.image import Image as WImage\n",
    "img_org = WImage(filename='/code/datas/testing/253472.jpg', height=5, width=5)\n",
    "img = WImage(filename='/code/datas/output/253472.jpg.pdf')\n",
    "display(img_org, img)"
   ]
  },
  {
   "cell_type": "code",
   "execution_count": null,
   "metadata": {},
   "outputs": [],
   "source": []
  },
  {
   "cell_type": "code",
   "execution_count": null,
   "metadata": {},
   "outputs": [],
   "source": [
    "run /detectron/tools/test_net.py \\\n",
    "    --vis \\\n",
    "    --cfg /detectron/configs/12_2017_baselines/e2e_mask_rcnn_R-101-FPN_2x.yaml \\\n",
    "    --multi-gpu-testing \\\n",
    "    TEST.WEIGHTS https://s3-us-west-2.amazonaws.com/detectron/35861858/12_2017_baselines/e2e_mask_rcnn_R-101-FPN_2x.yaml.02_32_51.SgT4y1cO/output/train/coco_2014_train:coco_2014_valminusminival/generalized_rcnn/model_final.pkl \\\n",
    "    OUTPUT_DIR /tmp/detectron-output1 \\\n",
    "    NUM_GPUS 2"
   ]
  },
  {
   "cell_type": "code",
   "execution_count": null,
   "metadata": {},
   "outputs": [],
   "source": [
    "run /detectron/tools/train_net.py \\\n",
    "    --cfg /detectron/configs/getting_started/tutorial_1gpu_e2e_faster_rcnn_R-50-FPN.yaml \\\n",
    "    OUTPUT_DIR /tmp/detectron-output"
   ]
  },
  {
   "cell_type": "code",
   "execution_count": null,
   "metadata": {},
   "outputs": [],
   "source": [
    "import caffe2\n",
    "\n",
    "caffe2.python.core."
   ]
  },
  {
   "cell_type": "code",
   "execution_count": 37,
   "metadata": {},
   "outputs": [],
   "source": [
    "import glob\n",
    "\n",
    "im_list = glob.iglob('/root/HsinWei/code/datas/research/imgs/201839' + '/*.jpg')"
   ]
  },
  {
   "cell_type": "code",
   "execution_count": 38,
   "metadata": {},
   "outputs": [
    {
     "name": "stdout",
     "output_type": "stream",
     "text": [
      "/root/HsinWei/code/datas/research/imgs/201839/271.jpg\n",
      "/root/HsinWei/code/datas/research/imgs/201839/257.jpg\n",
      "/root/HsinWei/code/datas/research/imgs/201839/256.jpg\n",
      "/root/HsinWei/code/datas/research/imgs/201839/128.jpg\n",
      "/root/HsinWei/code/datas/research/imgs/201839/175.jpg\n",
      "/root/HsinWei/code/datas/research/imgs/201839/176.jpg\n",
      "/root/HsinWei/code/datas/research/imgs/201839/36.jpg\n",
      "/root/HsinWei/code/datas/research/imgs/201839/254.jpg\n",
      "/root/HsinWei/code/datas/research/imgs/201839/138.jpg\n",
      "/root/HsinWei/code/datas/research/imgs/201839/136.jpg\n",
      "/root/HsinWei/code/datas/research/imgs/201839/48.jpg\n",
      "/root/HsinWei/code/datas/research/imgs/201839/64.jpg\n",
      "/root/HsinWei/code/datas/research/imgs/201839/18.jpg\n",
      "/root/HsinWei/code/datas/research/imgs/201839/77.jpg\n",
      "/root/HsinWei/code/datas/research/imgs/201839/100.jpg\n",
      "/root/HsinWei/code/datas/research/imgs/201839/92.jpg\n",
      "/root/HsinWei/code/datas/research/imgs/201839/82.jpg\n",
      "/root/HsinWei/code/datas/research/imgs/201839/168.jpg\n",
      "/root/HsinWei/code/datas/research/imgs/201839/3.jpg\n",
      "/root/HsinWei/code/datas/research/imgs/201839/215.jpg\n",
      "/root/HsinWei/code/datas/research/imgs/201839/125.jpg\n",
      "/root/HsinWei/code/datas/research/imgs/201839/292.jpg\n",
      "/root/HsinWei/code/datas/research/imgs/201839/44.jpg\n",
      "/root/HsinWei/code/datas/research/imgs/201839/22.jpg\n",
      "/root/HsinWei/code/datas/research/imgs/201839/177.jpg\n",
      "/root/HsinWei/code/datas/research/imgs/201839/73.jpg\n",
      "/root/HsinWei/code/datas/research/imgs/201839/20.jpg\n",
      "/root/HsinWei/code/datas/research/imgs/201839/135.jpg\n",
      "/root/HsinWei/code/datas/research/imgs/201839/234.jpg\n",
      "/root/HsinWei/code/datas/research/imgs/201839/165.jpg\n",
      "/root/HsinWei/code/datas/research/imgs/201839/240.jpg\n",
      "/root/HsinWei/code/datas/research/imgs/201839/224.jpg\n",
      "/root/HsinWei/code/datas/research/imgs/201839/205.jpg\n",
      "/root/HsinWei/code/datas/research/imgs/201839/264.jpg\n",
      "/root/HsinWei/code/datas/research/imgs/201839/107.jpg\n",
      "/root/HsinWei/code/datas/research/imgs/201839/186.jpg\n",
      "/root/HsinWei/code/datas/research/imgs/201839/66.jpg\n",
      "/root/HsinWei/code/datas/research/imgs/201839/239.jpg\n",
      "/root/HsinWei/code/datas/research/imgs/201839/75.jpg\n",
      "/root/HsinWei/code/datas/research/imgs/201839/184.jpg\n",
      "/root/HsinWei/code/datas/research/imgs/201839/51.jpg\n",
      "/root/HsinWei/code/datas/research/imgs/201839/56.jpg\n",
      "/root/HsinWei/code/datas/research/imgs/201839/187.jpg\n",
      "/root/HsinWei/code/datas/research/imgs/201839/203.jpg\n",
      "/root/HsinWei/code/datas/research/imgs/201839/278.jpg\n",
      "/root/HsinWei/code/datas/research/imgs/201839/38.jpg\n",
      "/root/HsinWei/code/datas/research/imgs/201839/253.jpg\n",
      "/root/HsinWei/code/datas/research/imgs/201839/80.jpg\n",
      "/root/HsinWei/code/datas/research/imgs/201839/238.jpg\n",
      "/root/HsinWei/code/datas/research/imgs/201839/49.jpg\n",
      "/root/HsinWei/code/datas/research/imgs/201839/222.jpg\n",
      "/root/HsinWei/code/datas/research/imgs/201839/162.jpg\n",
      "/root/HsinWei/code/datas/research/imgs/201839/13.jpg\n",
      "/root/HsinWei/code/datas/research/imgs/201839/122.jpg\n",
      "/root/HsinWei/code/datas/research/imgs/201839/259.jpg\n",
      "/root/HsinWei/code/datas/research/imgs/201839/153.jpg\n",
      "/root/HsinWei/code/datas/research/imgs/201839/263.jpg\n",
      "/root/HsinWei/code/datas/research/imgs/201839/91.jpg\n",
      "/root/HsinWei/code/datas/research/imgs/201839/261.jpg\n",
      "/root/HsinWei/code/datas/research/imgs/201839/148.jpg\n",
      "/root/HsinWei/code/datas/research/imgs/201839/6.jpg\n",
      "/root/HsinWei/code/datas/research/imgs/201839/262.jpg\n",
      "/root/HsinWei/code/datas/research/imgs/201839/269.jpg\n",
      "/root/HsinWei/code/datas/research/imgs/201839/63.jpg\n",
      "/root/HsinWei/code/datas/research/imgs/201839/83.jpg\n",
      "/root/HsinWei/code/datas/research/imgs/201839/46.jpg\n",
      "/root/HsinWei/code/datas/research/imgs/201839/115.jpg\n",
      "/root/HsinWei/code/datas/research/imgs/201839/54.jpg\n",
      "/root/HsinWei/code/datas/research/imgs/201839/17.jpg\n",
      "/root/HsinWei/code/datas/research/imgs/201839/26.jpg\n",
      "/root/HsinWei/code/datas/research/imgs/201839/197.jpg\n",
      "/root/HsinWei/code/datas/research/imgs/201839/113.jpg\n",
      "/root/HsinWei/code/datas/research/imgs/201839/201.jpg\n",
      "/root/HsinWei/code/datas/research/imgs/201839/156.jpg\n",
      "/root/HsinWei/code/datas/research/imgs/201839/133.jpg\n",
      "/root/HsinWei/code/datas/research/imgs/201839/143.jpg\n",
      "/root/HsinWei/code/datas/research/imgs/201839/87.jpg\n",
      "/root/HsinWei/code/datas/research/imgs/201839/146.jpg\n",
      "/root/HsinWei/code/datas/research/imgs/201839/85.jpg\n",
      "/root/HsinWei/code/datas/research/imgs/201839/277.jpg\n",
      "/root/HsinWei/code/datas/research/imgs/201839/89.jpg\n",
      "/root/HsinWei/code/datas/research/imgs/201839/178.jpg\n",
      "/root/HsinWei/code/datas/research/imgs/201839/37.jpg\n",
      "/root/HsinWei/code/datas/research/imgs/201839/88.jpg\n",
      "/root/HsinWei/code/datas/research/imgs/201839/225.jpg\n",
      "/root/HsinWei/code/datas/research/imgs/201839/62.jpg\n",
      "/root/HsinWei/code/datas/research/imgs/201839/151.jpg\n",
      "/root/HsinWei/code/datas/research/imgs/201839/299.jpg\n",
      "/root/HsinWei/code/datas/research/imgs/201839/97.jpg\n",
      "/root/HsinWei/code/datas/research/imgs/201839/110.jpg\n",
      "/root/HsinWei/code/datas/research/imgs/201839/68.jpg\n",
      "/root/HsinWei/code/datas/research/imgs/201839/154.jpg\n",
      "/root/HsinWei/code/datas/research/imgs/201839/76.jpg\n",
      "/root/HsinWei/code/datas/research/imgs/201839/191.jpg\n",
      "/root/HsinWei/code/datas/research/imgs/201839/251.jpg\n",
      "/root/HsinWei/code/datas/research/imgs/201839/86.jpg\n",
      "/root/HsinWei/code/datas/research/imgs/201839/8.jpg\n",
      "/root/HsinWei/code/datas/research/imgs/201839/248.jpg\n",
      "/root/HsinWei/code/datas/research/imgs/201839/235.jpg\n",
      "/root/HsinWei/code/datas/research/imgs/201839/273.jpg\n",
      "/root/HsinWei/code/datas/research/imgs/201839/237.jpg\n",
      "/root/HsinWei/code/datas/research/imgs/201839/230.jpg\n",
      "/root/HsinWei/code/datas/research/imgs/201839/294.jpg\n",
      "/root/HsinWei/code/datas/research/imgs/201839/99.jpg\n",
      "/root/HsinWei/code/datas/research/imgs/201839/108.jpg\n",
      "/root/HsinWei/code/datas/research/imgs/201839/124.jpg\n",
      "/root/HsinWei/code/datas/research/imgs/201839/14.jpg\n",
      "/root/HsinWei/code/datas/research/imgs/201839/212.jpg\n",
      "/root/HsinWei/code/datas/research/imgs/201839/59.jpg\n",
      "/root/HsinWei/code/datas/research/imgs/201839/2.jpg\n",
      "/root/HsinWei/code/datas/research/imgs/201839/25.jpg\n",
      "/root/HsinWei/code/datas/research/imgs/201839/84.jpg\n",
      "/root/HsinWei/code/datas/research/imgs/201839/281.jpg\n",
      "/root/HsinWei/code/datas/research/imgs/201839/102.jpg\n",
      "/root/HsinWei/code/datas/research/imgs/201839/53.jpg\n",
      "/root/HsinWei/code/datas/research/imgs/201839/190.jpg\n",
      "/root/HsinWei/code/datas/research/imgs/201839/139.jpg\n",
      "/root/HsinWei/code/datas/research/imgs/201839/293.jpg\n",
      "/root/HsinWei/code/datas/research/imgs/201839/217.jpg\n",
      "/root/HsinWei/code/datas/research/imgs/201839/95.jpg\n",
      "/root/HsinWei/code/datas/research/imgs/201839/155.jpg\n",
      "/root/HsinWei/code/datas/research/imgs/201839/298.jpg\n",
      "/root/HsinWei/code/datas/research/imgs/201839/192.jpg\n",
      "/root/HsinWei/code/datas/research/imgs/201839/126.jpg\n",
      "/root/HsinWei/code/datas/research/imgs/201839/16.jpg\n",
      "/root/HsinWei/code/datas/research/imgs/201839/243.jpg\n",
      "/root/HsinWei/code/datas/research/imgs/201839/120.jpg\n",
      "/root/HsinWei/code/datas/research/imgs/201839/58.jpg\n",
      "/root/HsinWei/code/datas/research/imgs/201839/233.jpg\n",
      "/root/HsinWei/code/datas/research/imgs/201839/211.jpg\n",
      "/root/HsinWei/code/datas/research/imgs/201839/207.jpg\n",
      "/root/HsinWei/code/datas/research/imgs/201839/45.jpg\n",
      "/root/HsinWei/code/datas/research/imgs/201839/112.jpg\n",
      "/root/HsinWei/code/datas/research/imgs/201839/67.jpg\n",
      "/root/HsinWei/code/datas/research/imgs/201839/280.jpg\n",
      "/root/HsinWei/code/datas/research/imgs/201839/15.jpg\n",
      "/root/HsinWei/code/datas/research/imgs/201839/27.jpg\n",
      "/root/HsinWei/code/datas/research/imgs/201839/79.jpg\n",
      "/root/HsinWei/code/datas/research/imgs/201839/141.jpg\n",
      "/root/HsinWei/code/datas/research/imgs/201839/21.jpg\n",
      "/root/HsinWei/code/datas/research/imgs/201839/250.jpg\n",
      "/root/HsinWei/code/datas/research/imgs/201839/65.jpg\n",
      "/root/HsinWei/code/datas/research/imgs/201839/78.jpg\n",
      "/root/HsinWei/code/datas/research/imgs/201839/295.jpg\n",
      "/root/HsinWei/code/datas/research/imgs/201839/266.jpg\n",
      "/root/HsinWei/code/datas/research/imgs/201839/142.jpg\n",
      "/root/HsinWei/code/datas/research/imgs/201839/121.jpg\n",
      "/root/HsinWei/code/datas/research/imgs/201839/60.jpg\n",
      "/root/HsinWei/code/datas/research/imgs/201839/131.jpg\n",
      "/root/HsinWei/code/datas/research/imgs/201839/252.jpg\n",
      "/root/HsinWei/code/datas/research/imgs/201839/289.jpg\n",
      "/root/HsinWei/code/datas/research/imgs/201839/118.jpg\n",
      "/root/HsinWei/code/datas/research/imgs/201839/288.jpg\n",
      "/root/HsinWei/code/datas/research/imgs/201839/74.jpg\n",
      "/root/HsinWei/code/datas/research/imgs/201839/150.jpg\n",
      "/root/HsinWei/code/datas/research/imgs/201839/220.jpg\n",
      "/root/HsinWei/code/datas/research/imgs/201839/246.jpg\n",
      "/root/HsinWei/code/datas/research/imgs/201839/105.jpg\n",
      "/root/HsinWei/code/datas/research/imgs/201839/7.jpg\n",
      "/root/HsinWei/code/datas/research/imgs/201839/245.jpg\n",
      "/root/HsinWei/code/datas/research/imgs/201839/227.jpg\n",
      "/root/HsinWei/code/datas/research/imgs/201839/232.jpg\n",
      "/root/HsinWei/code/datas/research/imgs/201839/117.jpg\n",
      "/root/HsinWei/code/datas/research/imgs/201839/30.jpg\n",
      "/root/HsinWei/code/datas/research/imgs/201839/200.jpg\n",
      "/root/HsinWei/code/datas/research/imgs/201839/129.jpg\n",
      "/root/HsinWei/code/datas/research/imgs/201839/196.jpg\n",
      "/root/HsinWei/code/datas/research/imgs/201839/119.jpg\n",
      "/root/HsinWei/code/datas/research/imgs/201839/265.jpg\n",
      "/root/HsinWei/code/datas/research/imgs/201839/180.jpg\n",
      "/root/HsinWei/code/datas/research/imgs/201839/174.jpg\n",
      "/root/HsinWei/code/datas/research/imgs/201839/258.jpg\n",
      "/root/HsinWei/code/datas/research/imgs/201839/226.jpg\n",
      "/root/HsinWei/code/datas/research/imgs/201839/152.jpg\n",
      "/root/HsinWei/code/datas/research/imgs/201839/28.jpg\n",
      "/root/HsinWei/code/datas/research/imgs/201839/132.jpg\n",
      "/root/HsinWei/code/datas/research/imgs/201839/116.jpg\n",
      "/root/HsinWei/code/datas/research/imgs/201839/94.jpg\n",
      "/root/HsinWei/code/datas/research/imgs/201839/166.jpg\n",
      "/root/HsinWei/code/datas/research/imgs/201839/52.jpg\n",
      "/root/HsinWei/code/datas/research/imgs/201839/140.jpg\n",
      "/root/HsinWei/code/datas/research/imgs/201839/195.jpg\n",
      "/root/HsinWei/code/datas/research/imgs/201839/282.jpg\n",
      "/root/HsinWei/code/datas/research/imgs/201839/11.jpg\n",
      "/root/HsinWei/code/datas/research/imgs/201839/32.jpg\n",
      "/root/HsinWei/code/datas/research/imgs/201839/123.jpg\n",
      "/root/HsinWei/code/datas/research/imgs/201839/255.jpg\n",
      "/root/HsinWei/code/datas/research/imgs/201839/216.jpg\n",
      "/root/HsinWei/code/datas/research/imgs/201839/0.jpg\n",
      "/root/HsinWei/code/datas/research/imgs/201839/101.jpg\n",
      "/root/HsinWei/code/datas/research/imgs/201839/114.jpg\n",
      "/root/HsinWei/code/datas/research/imgs/201839/268.jpg\n",
      "/root/HsinWei/code/datas/research/imgs/201839/55.jpg\n",
      "/root/HsinWei/code/datas/research/imgs/201839/223.jpg\n",
      "/root/HsinWei/code/datas/research/imgs/201839/109.jpg\n",
      "/root/HsinWei/code/datas/research/imgs/201839/188.jpg\n",
      "/root/HsinWei/code/datas/research/imgs/201839/35.jpg\n",
      "/root/HsinWei/code/datas/research/imgs/201839/149.jpg\n",
      "/root/HsinWei/code/datas/research/imgs/201839/147.jpg\n",
      "/root/HsinWei/code/datas/research/imgs/201839/161.jpg\n",
      "/root/HsinWei/code/datas/research/imgs/201839/163.jpg\n",
      "/root/HsinWei/code/datas/research/imgs/201839/229.jpg\n",
      "/root/HsinWei/code/datas/research/imgs/201839/267.jpg\n",
      "/root/HsinWei/code/datas/research/imgs/201839/218.jpg\n",
      "/root/HsinWei/code/datas/research/imgs/201839/57.jpg\n",
      "/root/HsinWei/code/datas/research/imgs/201839/160.jpg\n",
      "/root/HsinWei/code/datas/research/imgs/201839/40.jpg\n",
      "/root/HsinWei/code/datas/research/imgs/201839/69.jpg\n",
      "/root/HsinWei/code/datas/research/imgs/201839/29.jpg\n",
      "/root/HsinWei/code/datas/research/imgs/201839/4.jpg\n",
      "/root/HsinWei/code/datas/research/imgs/201839/9.jpg\n",
      "/root/HsinWei/code/datas/research/imgs/201839/198.jpg\n",
      "/root/HsinWei/code/datas/research/imgs/201839/206.jpg\n",
      "/root/HsinWei/code/datas/research/imgs/201839/104.jpg\n",
      "/root/HsinWei/code/datas/research/imgs/201839/189.jpg\n",
      "/root/HsinWei/code/datas/research/imgs/201839/34.jpg\n",
      "/root/HsinWei/code/datas/research/imgs/201839/242.jpg\n",
      "/root/HsinWei/code/datas/research/imgs/201839/158.jpg\n",
      "/root/HsinWei/code/datas/research/imgs/201839/134.jpg\n",
      "/root/HsinWei/code/datas/research/imgs/201839/210.jpg\n",
      "/root/HsinWei/code/datas/research/imgs/201839/185.jpg\n",
      "/root/HsinWei/code/datas/research/imgs/201839/228.jpg\n",
      "/root/HsinWei/code/datas/research/imgs/201839/31.jpg\n",
      "/root/HsinWei/code/datas/research/imgs/201839/285.jpg\n",
      "/root/HsinWei/code/datas/research/imgs/201839/127.jpg\n",
      "/root/HsinWei/code/datas/research/imgs/201839/98.jpg\n",
      "/root/HsinWei/code/datas/research/imgs/201839/111.jpg\n",
      "/root/HsinWei/code/datas/research/imgs/201839/241.jpg\n",
      "/root/HsinWei/code/datas/research/imgs/201839/193.jpg\n",
      "/root/HsinWei/code/datas/research/imgs/201839/167.jpg\n",
      "/root/HsinWei/code/datas/research/imgs/201839/50.jpg\n",
      "/root/HsinWei/code/datas/research/imgs/201839/72.jpg\n",
      "/root/HsinWei/code/datas/research/imgs/201839/169.jpg\n",
      "/root/HsinWei/code/datas/research/imgs/201839/199.jpg\n",
      "/root/HsinWei/code/datas/research/imgs/201839/81.jpg\n",
      "/root/HsinWei/code/datas/research/imgs/201839/19.jpg\n",
      "/root/HsinWei/code/datas/research/imgs/201839/221.jpg\n",
      "/root/HsinWei/code/datas/research/imgs/201839/214.jpg\n",
      "/root/HsinWei/code/datas/research/imgs/201839/43.jpg\n",
      "/root/HsinWei/code/datas/research/imgs/201839/10.jpg\n",
      "/root/HsinWei/code/datas/research/imgs/201839/247.jpg\n",
      "/root/HsinWei/code/datas/research/imgs/201839/41.jpg\n",
      "/root/HsinWei/code/datas/research/imgs/201839/249.jpg\n",
      "/root/HsinWei/code/datas/research/imgs/201839/12.jpg\n",
      "/root/HsinWei/code/datas/research/imgs/201839/283.jpg\n",
      "/root/HsinWei/code/datas/research/imgs/201839/279.jpg\n",
      "/root/HsinWei/code/datas/research/imgs/201839/260.jpg\n",
      "/root/HsinWei/code/datas/research/imgs/201839/208.jpg\n",
      "/root/HsinWei/code/datas/research/imgs/201839/71.jpg\n",
      "/root/HsinWei/code/datas/research/imgs/201839/106.jpg\n",
      "/root/HsinWei/code/datas/research/imgs/201839/276.jpg\n",
      "/root/HsinWei/code/datas/research/imgs/201839/164.jpg\n",
      "/root/HsinWei/code/datas/research/imgs/201839/159.jpg\n",
      "/root/HsinWei/code/datas/research/imgs/201839/130.jpg\n",
      "/root/HsinWei/code/datas/research/imgs/201839/236.jpg\n",
      "/root/HsinWei/code/datas/research/imgs/201839/170.jpg\n",
      "/root/HsinWei/code/datas/research/imgs/201839/157.jpg\n",
      "/root/HsinWei/code/datas/research/imgs/201839/213.jpg\n",
      "/root/HsinWei/code/datas/research/imgs/201839/296.jpg\n",
      "/root/HsinWei/code/datas/research/imgs/201839/61.jpg\n",
      "/root/HsinWei/code/datas/research/imgs/201839/144.jpg\n",
      "/root/HsinWei/code/datas/research/imgs/201839/39.jpg\n",
      "/root/HsinWei/code/datas/research/imgs/201839/209.jpg\n",
      "/root/HsinWei/code/datas/research/imgs/201839/47.jpg\n",
      "/root/HsinWei/code/datas/research/imgs/201839/290.jpg\n",
      "/root/HsinWei/code/datas/research/imgs/201839/137.jpg\n",
      "/root/HsinWei/code/datas/research/imgs/201839/202.jpg\n",
      "/root/HsinWei/code/datas/research/imgs/201839/1.jpg\n",
      "/root/HsinWei/code/datas/research/imgs/201839/286.jpg\n",
      "/root/HsinWei/code/datas/research/imgs/201839/272.jpg\n",
      "/root/HsinWei/code/datas/research/imgs/201839/291.jpg\n",
      "/root/HsinWei/code/datas/research/imgs/201839/204.jpg\n",
      "/root/HsinWei/code/datas/research/imgs/201839/270.jpg\n",
      "/root/HsinWei/code/datas/research/imgs/201839/23.jpg\n",
      "/root/HsinWei/code/datas/research/imgs/201839/96.jpg\n",
      "/root/HsinWei/code/datas/research/imgs/201839/194.jpg\n",
      "/root/HsinWei/code/datas/research/imgs/201839/179.jpg\n",
      "/root/HsinWei/code/datas/research/imgs/201839/93.jpg\n",
      "/root/HsinWei/code/datas/research/imgs/201839/182.jpg\n",
      "/root/HsinWei/code/datas/research/imgs/201839/275.jpg\n",
      "/root/HsinWei/code/datas/research/imgs/201839/231.jpg\n",
      "/root/HsinWei/code/datas/research/imgs/201839/33.jpg\n",
      "/root/HsinWei/code/datas/research/imgs/201839/297.jpg\n",
      "/root/HsinWei/code/datas/research/imgs/201839/103.jpg\n",
      "/root/HsinWei/code/datas/research/imgs/201839/171.jpg\n",
      "/root/HsinWei/code/datas/research/imgs/201839/24.jpg\n",
      "/root/HsinWei/code/datas/research/imgs/201839/70.jpg\n",
      "/root/HsinWei/code/datas/research/imgs/201839/244.jpg\n",
      "/root/HsinWei/code/datas/research/imgs/201839/172.jpg\n",
      "/root/HsinWei/code/datas/research/imgs/201839/284.jpg\n",
      "/root/HsinWei/code/datas/research/imgs/201839/145.jpg\n",
      "/root/HsinWei/code/datas/research/imgs/201839/173.jpg\n",
      "/root/HsinWei/code/datas/research/imgs/201839/42.jpg\n",
      "/root/HsinWei/code/datas/research/imgs/201839/5.jpg\n",
      "/root/HsinWei/code/datas/research/imgs/201839/90.jpg\n",
      "/root/HsinWei/code/datas/research/imgs/201839/181.jpg\n",
      "/root/HsinWei/code/datas/research/imgs/201839/287.jpg\n",
      "/root/HsinWei/code/datas/research/imgs/201839/183.jpg\n",
      "/root/HsinWei/code/datas/research/imgs/201839/219.jpg\n",
      "/root/HsinWei/code/datas/research/imgs/201839/274.jpg\n"
     ]
    }
   ],
   "source": [
    "for i in im_list:\n",
    "    print (i)"
   ]
  },
  {
   "cell_type": "code",
   "execution_count": 43,
   "metadata": {},
   "outputs": [
    {
     "data": {
      "text/plain": [
       "301"
      ]
     },
     "execution_count": 43,
     "metadata": {},
     "output_type": "execute_result"
    }
   ],
   "source": [
    "len([name for name in os.listdir('/root/HsinWei/code/datas/research/imgs/201839')])"
   ]
  },
  {
   "cell_type": "code",
   "execution_count": 46,
   "metadata": {},
   "outputs": [],
   "source": [
    "path, dirs, files = os.walk(\"/root/HsinWei/code/datas/research/imgs/201839/\").next()\n",
    "file_count = len(files)"
   ]
  },
  {
   "cell_type": "code",
   "execution_count": 56,
   "metadata": {},
   "outputs": [],
   "source": [
    "a = False"
   ]
  },
  {
   "cell_type": "code",
   "execution_count": 58,
   "metadata": {},
   "outputs": [],
   "source": [
    "S = {}"
   ]
  },
  {
   "cell_type": "code",
   "execution_count": 59,
   "metadata": {},
   "outputs": [
    {
     "data": {
      "text/plain": [
       "dict"
      ]
     },
     "execution_count": 59,
     "metadata": {},
     "output_type": "execute_result"
    }
   ],
   "source": [
    "type(S)"
   ]
  },
  {
   "cell_type": "code",
   "execution_count": 60,
   "metadata": {},
   "outputs": [],
   "source": [
    "list = {'george':16,'amber':19}"
   ]
  },
  {
   "cell_type": "code",
   "execution_count": 61,
   "metadata": {},
   "outputs": [
    {
     "name": "stdout",
     "output_type": "stream",
     "text": [
      "('amber', 19)\n",
      "('george', 16)\n"
     ]
    }
   ],
   "source": [
    "for name, age in list.iteritems():    # for name, age in list.items():  (for Python 3.x)\n",
    "    print (name , age)"
   ]
  },
  {
   "cell_type": "code",
   "execution_count": null,
   "metadata": {},
   "outputs": [],
   "source": [
    "a= np.array([[0,0],[1,1]])\n",
    "b= np.array([[0,0],[1,1]])"
   ]
  }
 ],
 "metadata": {
  "kernelspec": {
   "display_name": "Python 2",
   "language": "python",
   "name": "python2"
  },
  "language_info": {
   "codemirror_mode": {
    "name": "ipython",
    "version": 2
   },
   "file_extension": ".py",
   "mimetype": "text/x-python",
   "name": "python",
   "nbconvert_exporter": "python",
   "pygments_lexer": "ipython2",
   "version": "2.7.12"
  }
 },
 "nbformat": 4,
 "nbformat_minor": 2
}
